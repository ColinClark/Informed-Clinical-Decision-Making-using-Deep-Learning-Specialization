{
 "cells": [
  {
   "cell_type": "markdown",
   "id": "whole-relief",
   "metadata": {},
   "source": [
    "# Mortality numbers on the ICU and in hospital of adult patients\n",
    "This notebook consists of two queries that are related in topic. First, we are interested in the mortality numbers of all adult patients on the ICU. Next, we would like to know the mortality numbers in hospital.\n",
    "\n",
    "## 1. Mortality numbers on the ICU across care units\n",
    "We would like to know the mortality numbers of adult patients who were admitted to the ICU, and the distribution of these mortality numbers across the different ICUs. If a patient’s death was registered while the patient was on the ICU, or 6 hours before being admitted to, or 6 hours after leaving the ICU, we assume that the patient has died on the ICU. \n",
    "\n",
    "### SQL query description\n",
    "The following diagram visualizes the SQL query that is needed to obtain the ICU mortality numbers. We combine the Patients and Icustays tables based on the subject identifier, and select each patient’s date of birth and date of death, and the care unit and admission time corresponding to each ICU stay. The admission time and date of death together indicate whether or not a patient died on the ICU. The age (age >= 16) is again combined from the admission time and date of birth."
   ]
  },
  {
   "cell_type": "code",
   "execution_count": null,
   "id": "still-seventh",
   "metadata": {},
   "outputs": [],
   "source": [
    "# Imports:\n",
    "import numpy as np\n",
    "import pandas as pd\n",
    "import sys\n",
    "import psycopg2\n",
    "%matplotlib inline\n",
    "import matplotlib.pyplot as plt\n",
    "from matplotlib import cm\n",
    "import matplotlib.colors as mc\n",
    "import colorsys\n"
   ]
  },
  {
   "cell_type": "code",
   "execution_count": null,
   "id": "76e4658d-c9f8-44f1-94f3-5ca35609601e",
   "metadata": {},
   "outputs": [],
   "source": [
    "# Configuration:\n",
    "sqluser = 'colin'\n",
    "dbname = 'mimiciii'\n",
    "password='1357911!'\n",
    "schema_name = 'mimiciii'\n",
    "\n",
    "# Connect to MIMIC-III:\n",
    "con = psycopg2.connect(host=\"192.168.178.30\", dbname=dbname, user=sqluser, password=password)\n",
    "cur = con.cursor()\n",
    "cur.execute('SET search_path to ' + schema_name)"
   ]
  },
  {
   "cell_type": "code",
   "execution_count": null,
   "id": "convenient-command",
   "metadata": {},
   "outputs": [],
   "source": [
    "query = \\\n",
    "\"\"\"\n",
    "SELECT i.first_careunit, \n",
    "round((EXTRACT(EPOCH FROM (i.intime-p.dob))/60/60/24/365.242) :: NUMERIC, 4) as age,\n",
    "CASE WHEN p.dod IS NOT NULL \n",
    "     AND p.dod >= i.intime - interval '6 hour'\n",
    "     AND p.dod <= i.outtime + interval '6 hour' THEN 1 \n",
    "     ELSE 0 END AS icu_expire_flag\n",
    "FROM mimiciii.patients p\n",
    "INNER JOIN mimiciii.icustays i ON p.subject_id = i.subject_id\n",
    "WHERE round((EXTRACT(EPOCH FROM (i.intime-p.dob))/60/60/24/365.242) :: NUMERIC, 4) >= 16;\n",
    "\"\"\"\n",
    "\n",
    "query_output = pd.read_sql_query(query,con)\n",
    "print('Total mortality numbers: ', query_output.groupby('icu_expire_flag').icu_expire_flag.count())\n",
    "print('\\nMortality numbers per intensive care unit: ')\n",
    "print(query_output.groupby(['first_careunit', 'icu_expire_flag']).icu_expire_flag.count())\n",
    "\n",
    "# Or in percentages:\n",
    "print('Percentages mortality (% of total admissions): ',  query_output.groupby('icu_expire_flag').icu_expire_flag.count() / \n",
    "     query_output.icu_expire_flag.count() * 100)\n",
    "print('\\nPercentages mortality per intensive care unit: ')\n",
    "print(query_output.groupby(['first_careunit', 'icu_expire_flag']).icu_expire_flag.count() / \n",
    "     query_output.groupby('first_careunit').icu_expire_flag.count() * 100)\n",
    "\n",
    "# Visualize with a piechart:\n",
    "care_units = ['CCU', 'CSRU', 'MICU', 'SICU', 'TSICU']\n",
    "total = 0.0\n",
    "percentages = []\n",
    "for c in care_units:\n",
    "    percentages.append(query_output.loc[(query_output['first_careunit'] == c) & (query_output['icu_expire_flag'] == 1)].shape[0])\n",
    "    total += percentages[-1]\n",
    "total = len(care_units) * [total]\n",
    "percentages = np.array(percentages) / np.array(total) * 100\n",
    "\n",
    "care_units = ['CCU', 'CSRU', 'MICU', 'SICU', 'TSICU']\n",
    "colors = cm.get_cmap(\"viridis_r\")\n",
    "colors = colors(np.arange(5)/5.)\n",
    "fig1, ax1 = plt.subplots(figsize=(5, 5))\n",
    "patches, texts, autotexts = ax1.pie(percentages, labels = care_units, autopct = '%1.1f%%', startangle = 90, \n",
    "                                    colors = colors, pctdistance = 0.8)\n",
    "for i in range(len(texts)):\n",
    "    texts[i].set_fontsize('large')\n",
    "    texts[i].set_fontweight('roman')\n",
    "    autotexts[i].set_fontsize('large')\n",
    "centre_circle = plt.Circle((0,0),0.60,fc='white')\n",
    "fig = plt.gcf()\n",
    "fig.gca().add_artist(centre_circle)\n",
    "plt.title('Mortality on ICU per unit\\n', fontsize='14', fontweight='roman')\n",
    "ax1.axis('equal')\n",
    "fig1.tight_layout()\n",
    "fig1.savefig('mortality_ICU_piechart.jpg', dpi=400)"
   ]
  },
  {
   "cell_type": "markdown",
   "id": "careful-direction",
   "metadata": {},
   "source": [
    "## 2. Mortality numbers in hospital across care units\n",
    "We would also like to know the mortality numbers of adult patients who were admitted to hospital, and the distribution of those numbers across different ICUs. In this case, there is a variable called ‘hospital_expire_flag’ in the Admissions table that defines if a patient has died in hospital.\n",
    "\n",
    "### SQL query description\n",
    "The Patients and Icustays tables are combined based on the subject’s unique identifier, and the Admissions table is also joined based on the hospital admission’s identifier. We will need to select the hospital admission’s identifier, care unit, admission time and ‘hospital_expire_flag’. We also need the date of birth to obtain the age (age >= 16). "
   ]
  },
  {
   "cell_type": "code",
   "execution_count": null,
   "id": "early-airplane",
   "metadata": {},
   "outputs": [],
   "source": [
    "from IPython.display import Image\n",
    "Image(\"../patient_population_queries/SQL_query_diagrams/mortality_hospital.png\", width=500)"
   ]
  },
  {
   "cell_type": "markdown",
   "id": "compressed-voluntary",
   "metadata": {},
   "source": [
    "### Implementation of the above query"
   ]
  },
  {
   "cell_type": "code",
   "execution_count": null,
   "id": "canadian-medicine",
   "metadata": {
    "tags": []
   },
   "outputs": [],
   "source": [
    "query = \\\n",
    "\"\"\"\n",
    "SELECT i.hadm_id, i.first_careunit, a.hospital_expire_flag,\n",
    "round((EXTRACT(EPOCH FROM (a.admittime-p.dob))/60/60/24/365.242) :: NUMERIC, 4) as age\n",
    "FROM mimiciii.patients p\n",
    "INNER JOIN mimiciii.icustays i ON p.subject_id = i.subject_id\n",
    "INNER JOIN mimiciii.admissions a ON i.hadm_id = a.hadm_id\n",
    "WHERE round((EXTRACT(EPOCH FROM (a.admittime-p.dob))/60/60/24/365.242) :: NUMERIC, 4) >= 16;\n",
    "\"\"\"\n",
    "\n",
    "query_output = pd.read_sql_query(query,con)\n",
    "query_output.head()\n",
    "print('Total hospital mortality numbers: ', query_output.drop_duplicates(['hadm_id']).groupby('hospital_expire_flag')\n",
    "      .hospital_expire_flag.count())\n",
    "print('\\nHospital mortality numbers per intensive care unit: ')\n",
    "print(query_output.drop_duplicates(['hadm_id']).groupby(['first_careunit', 'hospital_expire_flag'])\n",
    "      .hospital_expire_flag.count())\n",
    "\n",
    "# Or in percentages:\n",
    "print('Percentages mortality (% of total admissions): ', query_output.drop_duplicates(['hadm_id'])\n",
    "      .groupby('hospital_expire_flag').hospital_expire_flag.count() / query_output.drop_duplicates(['hadm_id'])\n",
    "      .hospital_expire_flag.count() * 100)\n",
    "print('\\nPercentages mortality per intensive care unit: ')\n",
    "print(query_output.drop_duplicates(['hadm_id']).groupby(['first_careunit', 'hospital_expire_flag'])\n",
    "      .hospital_expire_flag.count() / query_output.drop_duplicates(['hadm_id']).groupby('first_careunit')\n",
    "      .hospital_expire_flag.count() * 100)\n",
    "\n",
    "# Visualize with a piechart:\n",
    "care_units = ['CCU', 'CSRU', 'MICU', 'SICU', 'TSICU']\n",
    "total = 0.0\n",
    "percentages = []\n",
    "for c in care_units:\n",
    "    percentages.append(query_output.loc[(query_output['first_careunit'] == c) & (query_output['hospital_expire_flag'] == 1)].shape[0])\n",
    "    total += percentages[-1]\n",
    "total = len(care_units) * [total]\n",
    "percentages = np.array(percentages) / np.array(total) * 100\n",
    "\n",
    "care_units = ['CCU', 'CSRU', 'MICU', 'SICU', 'TSICU']\n",
    "colors=cm.get_cmap(\"viridis_r\")\n",
    "colors = colors(np.arange(5)/5.)\n",
    "fig1, ax1 = plt.subplots(figsize=(5, 5))\n",
    "patches, texts, autotexts = ax1.pie(percentages, labels = care_units, autopct = '%1.1f%%', startangle = 90, \n",
    "                                    colors = colors, pctdistance = 0.8)\n",
    "for i in range(len(texts)):\n",
    "    texts[i].set_fontsize('large')\n",
    "    texts[i].set_fontweight('roman')\n",
    "    autotexts[i].set_fontsize('large')\n",
    "centre_circle = plt.Circle((0,0),0.60,fc='white')\n",
    "fig = plt.gcf()\n",
    "fig.gca().add_artist(centre_circle)\n",
    "plt.title('Mortality in hospital per unit\\n', fontsize='14', fontweight='roman')\n",
    "ax1.axis('equal')\n",
    "fig1.tight_layout()\n",
    "fig1.savefig('mortality_hospital_piechart.jpg', dpi=400)"
   ]
  }
 ],
 "metadata": {
  "kernelspec": {
   "display_name": "HeartStar",
   "language": "python",
   "name": "heartstar"
  },
  "language_info": {
   "codemirror_mode": {
    "name": "ipython",
    "version": 3
   },
   "file_extension": ".py",
   "mimetype": "text/x-python",
   "name": "python",
   "nbconvert_exporter": "python",
   "pygments_lexer": "ipython3",
   "version": "3.11.2"
  }
 },
 "nbformat": 4,
 "nbformat_minor": 5
}
